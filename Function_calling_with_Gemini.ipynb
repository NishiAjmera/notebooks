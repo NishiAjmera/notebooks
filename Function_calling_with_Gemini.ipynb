{
  "nbformat": 4,
  "nbformat_minor": 0,
  "metadata": {
    "colab": {
      "provenance": []
    },
    "kernelspec": {
      "name": "python3",
      "display_name": "Python 3"
    },
    "language_info": {
      "name": "python"
    }
  },
  "cells": [
    {
      "cell_type": "code",
      "execution_count": null,
      "metadata": {
        "colab": {
          "base_uri": "https://localhost:8080/",
          "height": 921
        },
        "id": "WlBtoyXMG8bA",
        "outputId": "80fad243-9059-46d9-cefb-5e21ba107fe4"
      },
      "outputs": [
        {
          "output_type": "stream",
          "name": "stdout",
          "text": [
            "Requirement already satisfied: google-cloud-aiplatform in /usr/local/lib/python3.10/dist-packages (1.59.0)\n",
            "Collecting google-cloud-aiplatform\n",
            "  Downloading google_cloud_aiplatform-1.60.0-py2.py3-none-any.whl.metadata (31 kB)\n",
            "Requirement already satisfied: google-api-core!=2.0.*,!=2.1.*,!=2.2.*,!=2.3.*,!=2.4.*,!=2.5.*,!=2.6.*,!=2.7.*,<3.0.0dev,>=1.34.1 in /usr/local/lib/python3.10/dist-packages (from google-api-core[grpc]!=2.0.*,!=2.1.*,!=2.2.*,!=2.3.*,!=2.4.*,!=2.5.*,!=2.6.*,!=2.7.*,<3.0.0dev,>=1.34.1->google-cloud-aiplatform) (2.19.1)\n",
            "Requirement already satisfied: google-auth<3.0.0dev,>=2.14.1 in /usr/local/lib/python3.10/dist-packages (from google-cloud-aiplatform) (2.27.0)\n",
            "Requirement already satisfied: proto-plus<2.0.0dev,>=1.22.3 in /usr/local/lib/python3.10/dist-packages (from google-cloud-aiplatform) (1.24.0)\n",
            "Requirement already satisfied: protobuf!=3.20.0,!=3.20.1,!=4.21.0,!=4.21.1,!=4.21.2,!=4.21.3,!=4.21.4,!=4.21.5,<5.0.0dev,>=3.19.5 in /usr/local/lib/python3.10/dist-packages (from google-cloud-aiplatform) (3.20.3)\n",
            "Requirement already satisfied: packaging>=14.3 in /usr/local/lib/python3.10/dist-packages (from google-cloud-aiplatform) (24.1)\n",
            "Requirement already satisfied: google-cloud-storage<3.0.0dev,>=1.32.0 in /usr/local/lib/python3.10/dist-packages (from google-cloud-aiplatform) (2.8.0)\n",
            "Requirement already satisfied: google-cloud-bigquery!=3.20.0,<4.0.0dev,>=1.15.0 in /usr/local/lib/python3.10/dist-packages (from google-cloud-aiplatform) (3.25.0)\n",
            "Requirement already satisfied: google-cloud-resource-manager<3.0.0dev,>=1.3.3 in /usr/local/lib/python3.10/dist-packages (from google-cloud-aiplatform) (1.12.4)\n",
            "Requirement already satisfied: shapely<3.0.0dev in /usr/local/lib/python3.10/dist-packages (from google-cloud-aiplatform) (2.0.5)\n",
            "Requirement already satisfied: pydantic<3 in /usr/local/lib/python3.10/dist-packages (from google-cloud-aiplatform) (2.8.2)\n",
            "Requirement already satisfied: docstring-parser<1 in /usr/local/lib/python3.10/dist-packages (from google-cloud-aiplatform) (0.16)\n",
            "Requirement already satisfied: googleapis-common-protos<2.0.dev0,>=1.56.2 in /usr/local/lib/python3.10/dist-packages (from google-api-core!=2.0.*,!=2.1.*,!=2.2.*,!=2.3.*,!=2.4.*,!=2.5.*,!=2.6.*,!=2.7.*,<3.0.0dev,>=1.34.1->google-api-core[grpc]!=2.0.*,!=2.1.*,!=2.2.*,!=2.3.*,!=2.4.*,!=2.5.*,!=2.6.*,!=2.7.*,<3.0.0dev,>=1.34.1->google-cloud-aiplatform) (1.63.2)\n",
            "Requirement already satisfied: requests<3.0.0.dev0,>=2.18.0 in /usr/local/lib/python3.10/dist-packages (from google-api-core!=2.0.*,!=2.1.*,!=2.2.*,!=2.3.*,!=2.4.*,!=2.5.*,!=2.6.*,!=2.7.*,<3.0.0dev,>=1.34.1->google-api-core[grpc]!=2.0.*,!=2.1.*,!=2.2.*,!=2.3.*,!=2.4.*,!=2.5.*,!=2.6.*,!=2.7.*,<3.0.0dev,>=1.34.1->google-cloud-aiplatform) (2.31.0)\n",
            "Requirement already satisfied: grpcio<2.0dev,>=1.33.2 in /usr/local/lib/python3.10/dist-packages (from google-api-core[grpc]!=2.0.*,!=2.1.*,!=2.2.*,!=2.3.*,!=2.4.*,!=2.5.*,!=2.6.*,!=2.7.*,<3.0.0dev,>=1.34.1->google-cloud-aiplatform) (1.64.1)\n",
            "Requirement already satisfied: grpcio-status<2.0.dev0,>=1.33.2 in /usr/local/lib/python3.10/dist-packages (from google-api-core[grpc]!=2.0.*,!=2.1.*,!=2.2.*,!=2.3.*,!=2.4.*,!=2.5.*,!=2.6.*,!=2.7.*,<3.0.0dev,>=1.34.1->google-cloud-aiplatform) (1.48.2)\n",
            "Requirement already satisfied: cachetools<6.0,>=2.0.0 in /usr/local/lib/python3.10/dist-packages (from google-auth<3.0.0dev,>=2.14.1->google-cloud-aiplatform) (5.4.0)\n",
            "Requirement already satisfied: pyasn1-modules>=0.2.1 in /usr/local/lib/python3.10/dist-packages (from google-auth<3.0.0dev,>=2.14.1->google-cloud-aiplatform) (0.4.0)\n",
            "Requirement already satisfied: rsa<5,>=3.1.4 in /usr/local/lib/python3.10/dist-packages (from google-auth<3.0.0dev,>=2.14.1->google-cloud-aiplatform) (4.9)\n",
            "Requirement already satisfied: google-cloud-core<3.0.0dev,>=1.6.0 in /usr/local/lib/python3.10/dist-packages (from google-cloud-bigquery!=3.20.0,<4.0.0dev,>=1.15.0->google-cloud-aiplatform) (2.4.1)\n",
            "Requirement already satisfied: google-resumable-media<3.0dev,>=0.6.0 in /usr/local/lib/python3.10/dist-packages (from google-cloud-bigquery!=3.20.0,<4.0.0dev,>=1.15.0->google-cloud-aiplatform) (2.7.1)\n",
            "Requirement already satisfied: python-dateutil<3.0dev,>=2.7.2 in /usr/local/lib/python3.10/dist-packages (from google-cloud-bigquery!=3.20.0,<4.0.0dev,>=1.15.0->google-cloud-aiplatform) (2.8.2)\n",
            "Requirement already satisfied: grpc-google-iam-v1<1.0.0dev,>=0.12.4 in /usr/local/lib/python3.10/dist-packages (from google-cloud-resource-manager<3.0.0dev,>=1.3.3->google-cloud-aiplatform) (0.13.1)\n",
            "Requirement already satisfied: annotated-types>=0.4.0 in /usr/local/lib/python3.10/dist-packages (from pydantic<3->google-cloud-aiplatform) (0.7.0)\n",
            "Requirement already satisfied: pydantic-core==2.20.1 in /usr/local/lib/python3.10/dist-packages (from pydantic<3->google-cloud-aiplatform) (2.20.1)\n",
            "Requirement already satisfied: typing-extensions>=4.6.1 in /usr/local/lib/python3.10/dist-packages (from pydantic<3->google-cloud-aiplatform) (4.12.2)\n",
            "Requirement already satisfied: numpy<3,>=1.14 in /usr/local/lib/python3.10/dist-packages (from shapely<3.0.0dev->google-cloud-aiplatform) (1.25.2)\n",
            "Requirement already satisfied: google-crc32c<2.0dev,>=1.0 in /usr/local/lib/python3.10/dist-packages (from google-resumable-media<3.0dev,>=0.6.0->google-cloud-bigquery!=3.20.0,<4.0.0dev,>=1.15.0->google-cloud-aiplatform) (1.5.0)\n",
            "Requirement already satisfied: pyasn1<0.7.0,>=0.4.6 in /usr/local/lib/python3.10/dist-packages (from pyasn1-modules>=0.2.1->google-auth<3.0.0dev,>=2.14.1->google-cloud-aiplatform) (0.6.0)\n",
            "Requirement already satisfied: six>=1.5 in /usr/local/lib/python3.10/dist-packages (from python-dateutil<3.0dev,>=2.7.2->google-cloud-bigquery!=3.20.0,<4.0.0dev,>=1.15.0->google-cloud-aiplatform) (1.16.0)\n",
            "Requirement already satisfied: charset-normalizer<4,>=2 in /usr/local/lib/python3.10/dist-packages (from requests<3.0.0.dev0,>=2.18.0->google-api-core!=2.0.*,!=2.1.*,!=2.2.*,!=2.3.*,!=2.4.*,!=2.5.*,!=2.6.*,!=2.7.*,<3.0.0dev,>=1.34.1->google-api-core[grpc]!=2.0.*,!=2.1.*,!=2.2.*,!=2.3.*,!=2.4.*,!=2.5.*,!=2.6.*,!=2.7.*,<3.0.0dev,>=1.34.1->google-cloud-aiplatform) (3.3.2)\n",
            "Requirement already satisfied: idna<4,>=2.5 in /usr/local/lib/python3.10/dist-packages (from requests<3.0.0.dev0,>=2.18.0->google-api-core!=2.0.*,!=2.1.*,!=2.2.*,!=2.3.*,!=2.4.*,!=2.5.*,!=2.6.*,!=2.7.*,<3.0.0dev,>=1.34.1->google-api-core[grpc]!=2.0.*,!=2.1.*,!=2.2.*,!=2.3.*,!=2.4.*,!=2.5.*,!=2.6.*,!=2.7.*,<3.0.0dev,>=1.34.1->google-cloud-aiplatform) (3.7)\n",
            "Requirement already satisfied: urllib3<3,>=1.21.1 in /usr/local/lib/python3.10/dist-packages (from requests<3.0.0.dev0,>=2.18.0->google-api-core!=2.0.*,!=2.1.*,!=2.2.*,!=2.3.*,!=2.4.*,!=2.5.*,!=2.6.*,!=2.7.*,<3.0.0dev,>=1.34.1->google-api-core[grpc]!=2.0.*,!=2.1.*,!=2.2.*,!=2.3.*,!=2.4.*,!=2.5.*,!=2.6.*,!=2.7.*,<3.0.0dev,>=1.34.1->google-cloud-aiplatform) (2.0.7)\n",
            "Requirement already satisfied: certifi>=2017.4.17 in /usr/local/lib/python3.10/dist-packages (from requests<3.0.0.dev0,>=2.18.0->google-api-core!=2.0.*,!=2.1.*,!=2.2.*,!=2.3.*,!=2.4.*,!=2.5.*,!=2.6.*,!=2.7.*,<3.0.0dev,>=1.34.1->google-api-core[grpc]!=2.0.*,!=2.1.*,!=2.2.*,!=2.3.*,!=2.4.*,!=2.5.*,!=2.6.*,!=2.7.*,<3.0.0dev,>=1.34.1->google-cloud-aiplatform) (2024.7.4)\n",
            "Downloading google_cloud_aiplatform-1.60.0-py2.py3-none-any.whl (5.1 MB)\n",
            "\u001b[2K   \u001b[90m━━━━━━━━━━━━━━━━━━━━━━━━━━━━━━━━━━━━━━━━\u001b[0m \u001b[32m5.1/5.1 MB\u001b[0m \u001b[31m17.6 MB/s\u001b[0m eta \u001b[36m0:00:00\u001b[0m\n",
            "\u001b[?25hInstalling collected packages: google-cloud-aiplatform\n",
            "  Attempting uninstall: google-cloud-aiplatform\n",
            "    Found existing installation: google-cloud-aiplatform 1.59.0\n",
            "    Uninstalling google-cloud-aiplatform-1.59.0:\n",
            "      Successfully uninstalled google-cloud-aiplatform-1.59.0\n",
            "Successfully installed google-cloud-aiplatform-1.60.0\n"
          ]
        },
        {
          "output_type": "display_data",
          "data": {
            "application/vnd.colab-display-data+json": {
              "pip_warning": {
                "packages": [
                  "google"
                ]
              },
              "id": "405c4143b7b04b81b494b7c12c2bbda1"
            }
          },
          "metadata": {}
        }
      ],
      "source": [
        "pip install --upgrade google-cloud-aiplatform"
      ]
    },
    {
      "cell_type": "code",
      "source": [
        "from google.cloud import aiplatform"
      ],
      "metadata": {
        "id": "H5BsgTZrIlUa"
      },
      "execution_count": null,
      "outputs": []
    },
    {
      "cell_type": "code",
      "source": [
        "\n",
        "import sys\n",
        "\n",
        "if \"google.colab\" in sys.modules:\n",
        "\n",
        "    from google.colab import auth\n",
        "\n",
        "    auth.authenticate_user()"
      ],
      "metadata": {
        "id": "KtjAFfzwJw_l"
      },
      "execution_count": null,
      "outputs": []
    },
    {
      "cell_type": "code",
      "source": [
        "\n",
        "PROJECT_ID = \"prime-hydra-428901-s6\"  # @param {type:\"string\"}\n",
        "LOCATION = \"us-central1\"  # @param {type:\"string\"}\n",
        "\n",
        "\n",
        "import vertexai\n",
        "\n",
        "vertexai.init(project=PROJECT_ID, location=LOCATION)"
      ],
      "metadata": {
        "id": "CcWE8T27J7Zw"
      },
      "execution_count": null,
      "outputs": []
    },
    {
      "cell_type": "code",
      "source": [
        "from vertexai.generative_models import GenerativeModel\n",
        "model = GenerativeModel(\"gemini-1.5-pro-001\")"
      ],
      "metadata": {
        "id": "5ZKRfXptHM94"
      },
      "execution_count": null,
      "outputs": []
    },
    {
      "cell_type": "code",
      "source": [
        "response = model.generate_content(\n",
        "    \"What's the exchange rate for euros to dollars today?\"\n",
        ")\n",
        "print(response.text)"
      ],
      "metadata": {
        "colab": {
          "base_uri": "https://localhost:8080/"
        },
        "id": "hV6GOh47HQ45",
        "outputId": "9631b742-a63b-48aa-ec13-0cb8b2b3e9c1"
      },
      "execution_count": null,
      "outputs": [
        {
          "output_type": "stream",
          "name": "stdout",
          "text": [
            "I do not have access to real-time information, including live exchange rates. \n",
            "\n",
            "To get the most up-to-date exchange rate for euros to dollars, I recommend checking a reliable online source such as:\n",
            "\n",
            "* **Google Finance:** Search \"EUR to USD\" on Google \n",
            "* **XE.com:** This website specializes in currency conversions.\n",
            "* **Your Bank's Website:** Most banks provide current exchange rates for their customers.\n",
            "\n",
            "Remember that exchange rates fluctuate constantly, so the rate you see at any given moment may change. \n",
            "\n"
          ]
        }
      ]
    },
    {
      "cell_type": "code",
      "source": [
        "user_prompt = \"What's the exchange rate from euros to US dollars today?\"\n",
        "\n",
        "response = model.generate_content(\"\"\"\n",
        "Your task is to extract parameters from the user's input and return it as a\n",
        "structured JSON payload. The user will ask about the exchange rate and which\n",
        "currency they are converting from and converting to.\n",
        "\n",
        "User input: {user_prompt}\n",
        "\n",
        "Please extract the currencies as parameters and put them in a JSON object.\n",
        "\"\"\".format(user_prompt=user_prompt))\n",
        "print(response.text)"
      ],
      "metadata": {
        "colab": {
          "base_uri": "https://localhost:8080/"
        },
        "id": "qNuA246OM5lc",
        "outputId": "bf3a26ff-b3cf-4f12-fed7-cfb9b7b1712e"
      },
      "execution_count": null,
      "outputs": [
        {
          "output_type": "stream",
          "name": "stdout",
          "text": [
            "```json\n",
            "{\n",
            "  \"from\": \"euros\",\n",
            "  \"to\": \"US dollars\"\n",
            "}\n",
            "``` \n",
            "\n"
          ]
        }
      ]
    },
    {
      "cell_type": "code",
      "source": [
        "from vertexai.generative_models import (\n",
        "    Content,\n",
        "    FunctionDeclaration,\n",
        "    GenerativeModel,\n",
        "    Part,\n",
        "    Tool,\n",
        ")\n",
        "\n",
        "# model = GenerativeModel(\"gemini-1.5-pro-001\")"
      ],
      "metadata": {
        "id": "hbzzQPCiNSde"
      },
      "execution_count": null,
      "outputs": []
    },
    {
      "cell_type": "code",
      "source": [
        "get_exchange_rate_func = FunctionDeclaration(\n",
        "    name=\"get_exchange_rate\",\n",
        "    description=\"Get the exchange rate for currencies between countries\",\n",
        "    parameters={\n",
        "    \"type\": \"object\",\n",
        "    \"properties\": {\n",
        "        \"currency_date\": {\n",
        "            \"type\": \"string\",\n",
        "            \"description\": \"A date that must always be in YYYY-MM-DD format or the value 'latest' if a time period is not specified\"\n",
        "        },\n",
        "        \"currency_from\": {\n",
        "            \"type\": \"string\",\n",
        "            \"description\": \"The currency to convert from in ISO 4217 format\"\n",
        "        },\n",
        "        \"currency_to\": {\n",
        "            \"type\": \"string\",\n",
        "            \"description\": \"The currency to convert to in ISO 4217 format\"\n",
        "        }\n",
        "    },\n",
        "         \"required\": [\n",
        "            \"currency_from\",\n",
        "            \"currency_date\",\n",
        "      ]\n",
        "  },\n",
        ")"
      ],
      "metadata": {
        "id": "Itk1x6JbNXLo"
      },
      "execution_count": null,
      "outputs": []
    },
    {
      "cell_type": "code",
      "source": [
        "exchange_rate_tool = Tool(\n",
        "    function_declarations=[get_exchange_rate_func],\n",
        ")"
      ],
      "metadata": {
        "id": "0mJI1o8mNbJz"
      },
      "execution_count": null,
      "outputs": []
    },
    {
      "cell_type": "code",
      "source": [
        "prompt = \"\"\"What is the exchange rate from Australian dollars to Swedish krona?\n",
        "How much is 500 Australian dollars worth in Swedish krona?\"\"\"\n",
        "\n",
        "response = model.generate_content(\n",
        "    prompt,\n",
        "    tools=[exchange_rate_tool],\n",
        ")"
      ],
      "metadata": {
        "id": "ECpdiDiMNeQw"
      },
      "execution_count": null,
      "outputs": []
    },
    {
      "cell_type": "code",
      "source": [
        "print(response.candidates[0].content)"
      ],
      "metadata": {
        "colab": {
          "base_uri": "https://localhost:8080/"
        },
        "id": "7tHfArE4NkvZ",
        "outputId": "eda08396-d37f-4b5b-df50-f53f1e0c6465"
      },
      "execution_count": null,
      "outputs": [
        {
          "output_type": "stream",
          "name": "stdout",
          "text": [
            "role: \"model\"\n",
            "parts {\n",
            "  function_call {\n",
            "    name: \"get_exchange_rate\"\n",
            "    args {\n",
            "      fields {\n",
            "        key: \"currency_date\"\n",
            "        value {\n",
            "          string_value: \"latest\"\n",
            "        }\n",
            "      }\n",
            "      fields {\n",
            "        key: \"currency_from\"\n",
            "        value {\n",
            "          string_value: \"AUD\"\n",
            "        }\n",
            "      }\n",
            "      fields {\n",
            "        key: \"currency_to\"\n",
            "        value {\n",
            "          string_value: \"SEK\"\n",
            "        }\n",
            "      }\n",
            "    }\n",
            "  }\n",
            "}\n",
            "\n"
          ]
        }
      ]
    },
    {
      "cell_type": "code",
      "source": [
        "params = {}\n",
        "for key, value in response.candidates[0].content.parts[0].function_call.args.items():\n",
        "    params[key[9:]] = value\n",
        "params"
      ],
      "metadata": {
        "colab": {
          "base_uri": "https://localhost:8080/"
        },
        "id": "MSeCvvWZNqIk",
        "outputId": "0db3612e-3c03-4abc-c2d2-1e761b2881d2"
      },
      "execution_count": null,
      "outputs": [
        {
          "output_type": "execute_result",
          "data": {
            "text/plain": [
              "{'date': 'latest', 'to': 'SEK', 'from': 'AUD'}"
            ]
          },
          "metadata": {},
          "execution_count": 17
        }
      ]
    },
    {
      "cell_type": "code",
      "source": [
        "import requests\n",
        "url = f\"https://api.frankfurter.app/{params['date']}\"\n",
        "api_response = requests.get(url, params=params)\n",
        "api_response.text"
      ],
      "metadata": {
        "colab": {
          "base_uri": "https://localhost:8080/",
          "height": 35
        },
        "id": "llcu9OfJNv6I",
        "outputId": "97748576-b1dd-4589-b066-e45ab0695894"
      },
      "execution_count": null,
      "outputs": [
        {
          "output_type": "execute_result",
          "data": {
            "text/plain": [
              "'{\"amount\":1.0,\"base\":\"AUD\",\"date\":\"2024-07-24\",\"rates\":{\"SEK\":7.1144}}'"
            ],
            "application/vnd.google.colaboratory.intrinsic+json": {
              "type": "string"
            }
          },
          "metadata": {},
          "execution_count": 23
        }
      ]
    },
    {
      "cell_type": "code",
      "source": [
        "response = model.generate_content(\n",
        "    [\n",
        "    Content(role=\"user\", parts=[\n",
        "        Part.from_text(prompt + \"\"\"Give your answer in steps with lots of detail\n",
        "            and context, including the exchange rate and date.\"\"\"),\n",
        "    ]),\n",
        "    Content(role=\"function\", parts=[\n",
        "        Part.from_dict({\n",
        "            \"function_call\": {\n",
        "                \"name\": \"get_exchange_rate\",\n",
        "            }\n",
        "        })\n",
        "    ]),\n",
        "    Content(role=\"function\", parts=[\n",
        "        Part.from_function_response(\n",
        "            name=\"get_exchange_rate\",\n",
        "            response={\n",
        "                \"content\": api_response.text,\n",
        "            }\n",
        "        )\n",
        "    ]),\n",
        "    ],\n",
        "    tools=[exchange_rate_tool],\n",
        ")\n",
        "\n",
        "\n",
        "response.candidates[0].content.parts[0].text"
      ],
      "metadata": {
        "colab": {
          "base_uri": "https://localhost:8080/",
          "height": 89
        },
        "id": "auB1GCQuNzuL",
        "outputId": "ba828824-9ef4-4a4b-ade8-279e1afe163d"
      },
      "execution_count": null,
      "outputs": [
        {
          "output_type": "execute_result",
          "data": {
            "text/plain": [
              "\"Let's break down the conversion step-by-step.\\n\\n**1. Fetch the Exchange Rate**\\n\\nWe need the latest exchange rate for Australian Dollars (AUD) to Swedish Krona (SEK). I got the exchange rate for you:  1 AUD is equal to 7.1197 SEK. This is based on the exchange rate from July 23rd, 2024.\\n\\n**2. Calculation**\\n\\nNow we'll convert 500 AUD to SEK using the exchange rate:\\n\\n*   500 AUD * 7.1197 SEK/AUD = 3559.85 SEK\\n\\n**3. Result**\\n\\nTherefore, as of July 23rd, 2024, 500 Australian Dollars is equivalent to **3559.85 Swedish Krona**. \\n\""
            ],
            "application/vnd.google.colaboratory.intrinsic+json": {
              "type": "string"
            }
          },
          "metadata": {},
          "execution_count": 22
        }
      ]
    },
    {
      "cell_type": "markdown",
      "source": [
        "Parallel Function Calling"
      ],
      "metadata": {
        "id": "d8lVhRDwWoZQ"
      }
    },
    {
      "cell_type": "code",
      "source": [
        "prompt = \"\"\"What is the exchange rate from Australian dollars to Swedish krona and GBP to Swedish Krona?\n",
        "How much is 500 Australian dollars worth in Swedish krona? How much is 700 GBP worth in Swedish krona?\"\"\"\n",
        "\n",
        "response = model.generate_content(\n",
        "    prompt,\n",
        "    tools=[exchange_rate_tool],\n",
        ")"
      ],
      "metadata": {
        "id": "90FUv0pUWKpV"
      },
      "execution_count": null,
      "outputs": []
    },
    {
      "cell_type": "code",
      "source": [
        "print(response.candidates[0].content)"
      ],
      "metadata": {
        "colab": {
          "base_uri": "https://localhost:8080/"
        },
        "id": "Qn-zxS2YWXEi",
        "outputId": "5455ecb7-c652-47fa-d9e3-62dbfb136f33"
      },
      "execution_count": null,
      "outputs": [
        {
          "output_type": "stream",
          "name": "stdout",
          "text": [
            "role: \"model\"\n",
            "parts {\n",
            "  function_call {\n",
            "    name: \"get_exchange_rate\"\n",
            "    args {\n",
            "      fields {\n",
            "        key: \"currency_date\"\n",
            "        value {\n",
            "          string_value: \"latest\"\n",
            "        }\n",
            "      }\n",
            "      fields {\n",
            "        key: \"currency_from\"\n",
            "        value {\n",
            "          string_value: \"AUD\"\n",
            "        }\n",
            "      }\n",
            "      fields {\n",
            "        key: \"currency_to\"\n",
            "        value {\n",
            "          string_value: \"SEK\"\n",
            "        }\n",
            "      }\n",
            "    }\n",
            "  }\n",
            "}\n",
            "parts {\n",
            "  function_call {\n",
            "    name: \"get_exchange_rate\"\n",
            "    args {\n",
            "      fields {\n",
            "        key: \"currency_date\"\n",
            "        value {\n",
            "          string_value: \"latest\"\n",
            "        }\n",
            "      }\n",
            "      fields {\n",
            "        key: \"currency_from\"\n",
            "        value {\n",
            "          string_value: \"GBP\"\n",
            "        }\n",
            "      }\n",
            "      fields {\n",
            "        key: \"currency_to\"\n",
            "        value {\n",
            "          string_value: \"SEK\"\n",
            "        }\n",
            "      }\n",
            "    }\n",
            "  }\n",
            "}\n",
            "\n"
          ]
        }
      ]
    }
  ]
}
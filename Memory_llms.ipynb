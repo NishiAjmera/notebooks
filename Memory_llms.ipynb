{
  "nbformat": 4,
  "nbformat_minor": 0,
  "metadata": {
    "colab": {
      "provenance": [],
      "authorship_tag": "ABX9TyMhXAYRVr2tnNpQge3bpADU",
      "include_colab_link": true
    },
    "kernelspec": {
      "name": "python3",
      "display_name": "Python 3"
    },
    "language_info": {
      "name": "python"
    }
  },
  "cells": [
    {
      "cell_type": "markdown",
      "metadata": {
        "id": "view-in-github",
        "colab_type": "text"
      },
      "source": [
        "<a href=\"https://colab.research.google.com/github/NishiAjmera/notebooks/blob/main/Memory_llms.ipynb\" target=\"_parent\"><img src=\"https://colab.research.google.com/assets/colab-badge.svg\" alt=\"Open In Colab\"/></a>"
      ]
    },
    {
      "cell_type": "code",
      "execution_count": 1,
      "metadata": {
        "colab": {
          "base_uri": "https://localhost:8080/"
        },
        "id": "VMS6AbrpfQPI",
        "outputId": "d20b9482-7a8f-442f-be33-cece7880bba7"
      },
      "outputs": [
        {
          "output_type": "stream",
          "name": "stdout",
          "text": [
            "\u001b[2K     \u001b[90m━━━━━━━━━━━━━━━━━━━━━━━━━━━━━━━━━━━━━━━━\u001b[0m \u001b[32m2.2/2.2 MB\u001b[0m \u001b[31m9.8 MB/s\u001b[0m eta \u001b[36m0:00:00\u001b[0m\n",
            "\u001b[2K     \u001b[90m━━━━━━━━━━━━━━━━━━━━━━━━━━━━━━━━━━━━━━━━\u001b[0m \u001b[32m974.6/974.6 kB\u001b[0m \u001b[31m16.3 MB/s\u001b[0m eta \u001b[36m0:00:00\u001b[0m\n",
            "\u001b[2K     \u001b[90m━━━━━━━━━━━━━━━━━━━━━━━━━━━━━━━━━━━━━━━━\u001b[0m \u001b[32m86.8/86.8 kB\u001b[0m \u001b[31m6.4 MB/s\u001b[0m eta \u001b[36m0:00:00\u001b[0m\n",
            "\u001b[2K     \u001b[90m━━━━━━━━━━━━━━━━━━━━━━━━━━━━━━━━━━━━━━━━\u001b[0m \u001b[32m315.6/315.6 kB\u001b[0m \u001b[31m12.7 MB/s\u001b[0m eta \u001b[36m0:00:00\u001b[0m\n",
            "\u001b[2K     \u001b[90m━━━━━━━━━━━━━━━━━━━━━━━━━━━━━━━━━━━━━━━━\u001b[0m \u001b[32m2.7/2.7 MB\u001b[0m \u001b[31m22.8 MB/s\u001b[0m eta \u001b[36m0:00:00\u001b[0m\n",
            "\u001b[2K     \u001b[90m━━━━━━━━━━━━━━━━━━━━━━━━━━━━━━━━━━━━━━━━\u001b[0m \u001b[32m145.0/145.0 kB\u001b[0m \u001b[31m3.4 MB/s\u001b[0m eta \u001b[36m0:00:00\u001b[0m\n",
            "\u001b[2K     \u001b[90m━━━━━━━━━━━━━━━━━━━━━━━━━━━━━━━━━━━━━━━━\u001b[0m \u001b[32m125.2/125.2 kB\u001b[0m \u001b[31m6.0 MB/s\u001b[0m eta \u001b[36m0:00:00\u001b[0m\n",
            "\u001b[2K     \u001b[90m━━━━━━━━━━━━━━━━━━━━━━━━━━━━━━━━━━━━━━━━\u001b[0m \u001b[32m325.5/325.5 kB\u001b[0m \u001b[31m15.1 MB/s\u001b[0m eta \u001b[36m0:00:00\u001b[0m\n",
            "\u001b[2K     \u001b[90m━━━━━━━━━━━━━━━━━━━━━━━━━━━━━━━━━━━━━━━━\u001b[0m \u001b[32m1.1/1.1 MB\u001b[0m \u001b[31m29.1 MB/s\u001b[0m eta \u001b[36m0:00:00\u001b[0m\n",
            "\u001b[2K     \u001b[90m━━━━━━━━━━━━━━━━━━━━━━━━━━━━━━━━━━━━━━━━\u001b[0m \u001b[32m49.2/49.2 kB\u001b[0m \u001b[31m2.8 MB/s\u001b[0m eta \u001b[36m0:00:00\u001b[0m\n",
            "\u001b[2K     \u001b[90m━━━━━━━━━━━━━━━━━━━━━━━━━━━━━━━━━━━━━━━━\u001b[0m \u001b[32m75.6/75.6 kB\u001b[0m \u001b[31m5.0 MB/s\u001b[0m eta \u001b[36m0:00:00\u001b[0m\n",
            "\u001b[2K     \u001b[90m━━━━━━━━━━━━━━━━━━━━━━━━━━━━━━━━━━━━━━━━\u001b[0m \u001b[32m77.9/77.9 kB\u001b[0m \u001b[31m3.8 MB/s\u001b[0m eta \u001b[36m0:00:00\u001b[0m\n",
            "\u001b[2K     \u001b[90m━━━━━━━━━━━━━━━━━━━━━━━━━━━━━━━━━━━━━━━━\u001b[0m \u001b[32m58.3/58.3 kB\u001b[0m \u001b[31m4.9 MB/s\u001b[0m eta \u001b[36m0:00:00\u001b[0m\n",
            "\u001b[?25h"
          ]
        }
      ],
      "source": [
        "%pip install --upgrade --quiet  duckduckgo-search langchain_community langchain_openai langchain langgraph langchain-core"
      ]
    },
    {
      "cell_type": "code",
      "source": [
        "from langchain_openai import ChatOpenAI\n",
        "from google.colab import userdata\n",
        "\n",
        "\n",
        "chat = ChatOpenAI(model=\"gpt-4o\", api_key=userdata.get('OPENAI_KEY'))"
      ],
      "metadata": {
        "id": "5ps0X2eTfgcK"
      },
      "execution_count": 2,
      "outputs": []
    },
    {
      "cell_type": "code",
      "source": [
        "from langchain_core.messages import AIMessage, HumanMessage\n",
        "from langchain_core.prompts import ChatPromptTemplate, MessagesPlaceholder\n",
        "\n",
        "prompt = ChatPromptTemplate.from_messages(\n",
        "    [\n",
        "        (\n",
        "            \"system\",\n",
        "            \"You are a helpful assistant. Answer all questions to the best of your ability.\",\n",
        "        ),\n",
        "        MessagesPlaceholder(variable_name=\"messages\"),\n",
        "    ]\n",
        ")\n",
        "\n",
        "chain = prompt | chat\n",
        "\n",
        "chat_history = [\n",
        "      HumanMessage(content=\"Hi, My name is Nishi. I am software engineer.\"),\n",
        "      AIMessage(content=\"Hi Nishi! It's nice to meet you. As a software engineer, you must work on a variety of interesting projects. How can I assist you today? Are you looking for help with a specific programming problem, career advice, or something else?\"),\n",
        "\n",
        "]\n",
        "\n",
        "result = chain.invoke(\n",
        "    {\n",
        "        \"messages\": [\n",
        "            HumanMessage(\n",
        "                content=\"What career advise would you give me ?\"\n",
        "            )\n",
        "         ] + chat_history ,\n",
        "    }\n",
        ")\n",
        "\n",
        "print(result)"
      ],
      "metadata": {
        "colab": {
          "base_uri": "https://localhost:8080/"
        },
        "id": "UB-_BkZ-gd9r",
        "outputId": "2e70949c-46b9-4bb6-995e-8244efebe8f4"
      },
      "execution_count": 19,
      "outputs": [
        {
          "output_type": "stream",
          "name": "stdout",
          "text": [
            "content=\"Hi Nishi! It's great to hear that you're a software engineer. Here are some career advice tips tailored for someone in your field:\\n\\n1. **Continuous Learning**: Technology evolves rapidly. Stay updated with the latest programming languages, frameworks, and tools. Online courses and certifications can help with this.\\n\\n2. **Build a Strong Portfolio**: Showcase your work through a personal website or platforms like GitHub. Include projects that demonstrate your skills and problem-solving abilities.\\n\\n3. **Networking**: Connect with other professionals in your field. Attend industry conferences, meetups, and webinars. Networking can open doors to new opportunities and collaborations.\\n\\n4. **Soft Skills**: Technical skills are crucial, but don't neglect soft skills like communication, teamwork, and problem-solving. These are often key differentiators in career growth.\\n\\n5. **Contribute to Open Source**: Participating in open-source projects can enhance your skills, expose you to real-world problems, and expand your professional network.\\n\\n6. **Seek Mentorship**: Find a mentor who can provide guidance, share their experiences, and help you navigate your career path.\\n\\n7. **Set Goals**: Define your career goals and create a roadmap to achieve them. Whether it’s mastering a new technology, earning a promotion, or transitioning into a different role, having clear objectives can help you stay focused and motivated.\\n\\n8. **Work-Life Balance**: Don’t forget to maintain a healthy work-life balance. Burnout can negatively impact your productivity and career satisfaction.\\n\\n9. **Expand Your Horizons**: Consider exploring different areas within software engineering, such as DevOps, data science, or cybersecurity. Diversifying your skill set can make you more versatile and open up new career paths.\\n\\n10. **Stay Curious and Passionate**: Passion for what you do will drive you to excel and innovate. Stay curious and keep exploring new ideas and technologies.\\n\\nIf you have specific questions or areas you’d like more detailed advice on, feel free to ask!\" response_metadata={'token_usage': {'completion_tokens': 401, 'prompt_tokens': 106, 'total_tokens': 507}, 'model_name': 'gpt-4o', 'system_fingerprint': 'fp_319be4768e', 'finish_reason': 'stop', 'logprobs': None} id='run-43317a3d-b45f-4900-a8a2-a10faec0f81a-0' usage_metadata={'input_tokens': 106, 'output_tokens': 401, 'total_tokens': 507}\n"
          ]
        }
      ]
    },
    {
      "cell_type": "code",
      "source": [
        "stored_messages = [\n",
        "   AIMessage(content=\"Hi Nishi! It's nice to meet you. As a software engineer, you must work on a variety of interesting projects. How can I assist you today? Are you looking for help with a specific programming problem, career advice, or something else?\"),\n",
        "   HumanMessage(content=\"What career advise would you give me ?\"),\n",
        "   AIMessage(result.content)\n",
        "    ]\n",
        "\n",
        "summarization_prompt = ChatPromptTemplate.from_messages(\n",
        "        [\n",
        "            MessagesPlaceholder(variable_name=\"chat_history\"),\n",
        "            (\n",
        "                \"user\",\n",
        "                \"Distill the above chat messages into a single summary message. Include as many specific details as you can.\",\n",
        "            ),\n",
        "        ]\n",
        "    )\n",
        "summarization_chain = summarization_prompt | chat\n",
        "\n",
        "summary_message = summarization_chain.invoke({\"chat_history\": stored_messages})\n",
        "\n",
        "print(summary_message)\n",
        "\n"
      ],
      "metadata": {
        "colab": {
          "base_uri": "https://localhost:8080/"
        },
        "id": "7KqJV5GEoUAJ",
        "outputId": "744d3794-3f41-44e9-99c7-4c1a18b3c9d2"
      },
      "execution_count": 20,
      "outputs": [
        {
          "output_type": "stream",
          "name": "stdout",
          "text": [
            "content='Sure, here’s a distilled summary of the career advice for a software engineer:\\n\\nAs a software engineer, continuously update your skills with the latest technologies and tools through online courses and certifications. Build a strong portfolio showcasing your projects on platforms like GitHub. Network by attending industry events and webinars, and enhance your soft skills such as communication and teamwork. Contribute to open-source projects to gain experience and expand your network. Seek mentorship for guidance and set clear career goals to stay focused. Maintain a healthy work-life balance to avoid burnout. Explore different areas within software engineering, such as DevOps or data science, to diversify your skill set. Stay curious and passionate about your work to drive innovation and excellence.' response_metadata={'token_usage': {'completion_tokens': 140, 'prompt_tokens': 499, 'total_tokens': 639}, 'model_name': 'gpt-4o', 'system_fingerprint': 'fp_aa87380ac5', 'finish_reason': 'stop', 'logprobs': None} id='run-618ff7b1-588d-44c3-9133-b3f9646e8e6c-0' usage_metadata={'input_tokens': 499, 'output_tokens': 140, 'total_tokens': 639}\n"
          ]
        }
      ]
    },
    {
      "cell_type": "code",
      "source": [
        "print(summary_message.content)"
      ],
      "metadata": {
        "colab": {
          "base_uri": "https://localhost:8080/"
        },
        "id": "fYIK2qJerp0I",
        "outputId": "799fb6ae-d127-43c8-bd1a-5fbfada0c315"
      },
      "execution_count": 21,
      "outputs": [
        {
          "output_type": "stream",
          "name": "stdout",
          "text": [
            "Sure, here’s a distilled summary of the career advice for a software engineer:\n",
            "\n",
            "As a software engineer, continuously update your skills with the latest technologies and tools through online courses and certifications. Build a strong portfolio showcasing your projects on platforms like GitHub. Network by attending industry events and webinars, and enhance your soft skills such as communication and teamwork. Contribute to open-source projects to gain experience and expand your network. Seek mentorship for guidance and set clear career goals to stay focused. Maintain a healthy work-life balance to avoid burnout. Explore different areas within software engineering, such as DevOps or data science, to diversify your skill set. Stay curious and passionate about your work to drive innovation and excellence.\n"
          ]
        }
      ]
    },
    {
      "cell_type": "code",
      "source": [
        "from langchain_core.messages import SystemMessage\n",
        "\n",
        "conversation_history = SystemMessage(summary_message.content)\n",
        "\n",
        "\n",
        "result = chain.invoke(\n",
        "    {\n",
        "        \"messages\":  [\n",
        "            conversation_history,\n",
        "            HumanMessage(\n",
        "                content=\"What should be my focus areas to help me grow in my career?\"\n",
        "            )\n",
        "         ]\n",
        "    }\n",
        ")\n",
        "\n",
        "print(result)\n"
      ],
      "metadata": {
        "colab": {
          "base_uri": "https://localhost:8080/"
        },
        "id": "arI5uZhaqcMs",
        "outputId": "17421b50-ec94-4a6f-a9c5-d5280ea34964"
      },
      "execution_count": 22,
      "outputs": [
        {
          "output_type": "stream",
          "name": "stdout",
          "text": [
            "content='To help grow your career as a software engineer, consider focusing on the following areas:\\n\\n1. **Technical Skills:**\\n   - **Programming Languages:** Master at least one or two programming languages deeply (e.g., Python, Java, C++).\\n   - **Data Structures and Algorithms:** Strengthen your understanding of these fundamentals to solve complex problems efficiently.\\n   - **Software Development Practices:** Learn about version control (e.g., Git), testing (unit, integration, and system testing), and continuous integration/continuous deployment (CI/CD) pipelines.\\n   - **System Design and Architecture:** Understand how to design scalable, reliable, and maintainable systems.\\n\\n2. **Specialization:**\\n   - Explore different fields such as web development, mobile development, machine learning, data science, cloud computing, cybersecurity, DevOps, etc., and develop expertise in one or more areas.\\n\\n3. **Soft Skills:**\\n   - **Communication:** Improve your ability to explain complex technical concepts to non-technical stakeholders and collaborate effectively with team members.\\n   - **Teamwork:** Develop the ability to work well within a team, including participating in code reviews and pair programming.\\n   - **Problem-Solving:** Hone your analytical and critical thinking skills to tackle challenging problems.\\n\\n4. **Networking and Professional Development:**\\n   - **Networking:** Attend industry conferences, meetups, webinars, and workshops to meet other professionals and stay informed about industry trends.\\n   - **Mentorship:** Seek out mentors who can provide guidance and advice, and consider mentoring others to reinforce your own knowledge.\\n   - **Certifications and Courses:** Pursue relevant certifications and take courses to stay current with new technologies and methodologies.\\n\\n5. **Contributions and Portfolio:**\\n   - **Open Source:** Contribute to open-source projects to gain experience, improve your skills, and expand your network.\\n   - **Portfolio:** Build and maintain a portfolio of your projects on platforms like GitHub to showcase your work to potential employers.\\n\\n6. **Career Planning:**\\n   - **Goal Setting:** Set clear, achievable career goals and create a roadmap to reach them.\\n   - **Continuous Learning:** Stay curious and committed to lifelong learning. Read books, follow industry blogs, listen to podcasts, and take online courses.\\n\\n7. **Work-Life Balance:**\\n   - Ensure you maintain a healthy work-life balance to avoid burnout and maintain long-term productivity and job satisfaction.\\n\\n8. **Adaptability:**\\n   - Be open to change and willing to adapt to new roles, responsibilities, and technologies as the industry evolves.\\n\\nBy focusing on these areas, you can build a strong foundation for growth and advancement in your software engineering career.' response_metadata={'token_usage': {'completion_tokens': 538, 'prompt_tokens': 185, 'total_tokens': 723}, 'model_name': 'gpt-4o', 'system_fingerprint': 'fp_319be4768e', 'finish_reason': 'stop', 'logprobs': None} id='run-89700a7e-935b-4e02-a325-12e763f260bd-0' usage_metadata={'input_tokens': 185, 'output_tokens': 538, 'total_tokens': 723}\n"
          ]
        }
      ]
    }
  ]
}